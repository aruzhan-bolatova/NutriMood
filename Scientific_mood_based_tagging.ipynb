{
 "cells": [
  {
   "cell_type": "code",
   "execution_count": 1,
   "id": "c172c63d-7077-4b77-b69e-bf486cbcfe0a",
   "metadata": {},
   "outputs": [
    {
     "name": "stdout",
     "output_type": "stream",
     "text": [
      "Enhanced dataset saved to outputrecipe.csv\n"
     ]
    }
   ],
   "source": [
    "import pandas as pd\n",
    "\n",
    "# Enhanced function for assigning MoodTag\n",
    "def assign_mood_tag_from_all_context(ingredients, instructions):\n",
    "    # Combine ingredients and instructions for analysis\n",
    "    combined_text = f\"{ingredients} {instructions}\".lower()\n",
    "\n",
    "    # Enhanced Mood-based matching logic\n",
    "    if any(keyword in combined_text for keyword in [\n",
    "        \"chamomile\", \"lavender\", \"mint\", \"herbal\", \"calm\", \"soothing\",\n",
    "        \"oats\", \"broth\", \"spinach\", \"almonds\", \"anxiety\", \"magnesium\",\n",
    "        \"slow-cooked\", \"stew\", \"creamy\"\n",
    "    ]):\n",
    "        return \"Reducing Anxiety\"\n",
    "    elif any(keyword in combined_text for keyword in [\n",
    "        \"matcha\", \"focus\", \"clarity\", \"green tea\", \"turmeric\", \"pepper\",\n",
    "        \"walnuts\", \"chia seeds\", \"omega-3\", \"caffeine\", \"productivity\",\n",
    "        \"steamed\", \"light\", \"airy\"\n",
    "    ]):\n",
    "        return \"Boosting Focus and Productivity\"\n",
    "    elif any(keyword in combined_text for keyword in [\n",
    "        \"spicy\", \"chili\", \"pepper\", \"protein\", \"banana\", \"nuts\",\n",
    "        \"energy\", \"granola\", \"honey\", \"citrus\", \"carb\",\n",
    "        \"grilled\", \"crispy\", \"crunchy\"\n",
    "    ]):\n",
    "        return \"Boosting Energy Levels\"\n",
    "    elif any(keyword in combined_text for keyword in [\n",
    "        \"chocolate\", \"berries\", \"honey\", \"sweet\", \"serotonin\", \"dopamine\",\n",
    "        \"fruit\", \"banana\", \"strawberries\", \"indulgent\",\n",
    "        \"baked\", \"dessert\", \"comfort\"\n",
    "    ]):\n",
    "        return \"Improving Mood and Well-being\"\n",
    "    elif any(keyword in combined_text for keyword in [\n",
    "        \"warm\", \"aromatic\", \"relax\", \"sleep\", \"slow-cooked\", \"turkey\",\n",
    "        \"milk\", \"chamomile tea\", \"jasmine tea\", \"melatonin\", \"calming\",\n",
    "        \"hearty\", \"soup\", \"stew\", \"warm\"\n",
    "    ]):\n",
    "        return \"Promoting Relaxation and Sleep\"\n",
    "    else:\n",
    "        return \"Balanced\"\n",
    "\n",
    "# Apply the enhanced mood tagging function to your dataset\n",
    "def process_dataset_with_all_context(input_file, output_file):\n",
    "    # Load the dataset\n",
    "    data = pd.read_csv(input_file)\n",
    "\n",
    "    # Apply the enhanced mood tagging function to create a new MoodTag column\n",
    "    data['MoodTag'] = data.apply(\n",
    "        lambda row: assign_mood_tag_from_all_context(row['Ingredients'], row['Instruction Steps']), axis=1\n",
    "    )\n",
    "\n",
    "    # Save the updated dataset\n",
    "    data.to_csv(output_file, index=False)\n",
    "    print(f\"Enhanced dataset saved to {output_file}\")\n",
    "\n",
    "# Example usage\n",
    "input_file_path = 'recipe_details.csv'  # Replace with your input file path\n",
    "output_file_path = 'outputrecipe.csv'  # Replace with your desired output file path\n",
    "\n",
    "process_dataset_with_all_context(input_file_path, output_file_path)\n"
   ]
  },
  {
   "cell_type": "code",
   "execution_count": null,
   "id": "9ac32aea-e984-4bbf-8ec5-b645c4841c0d",
   "metadata": {},
   "outputs": [],
   "source": []
  }
 ],
 "metadata": {
  "kernelspec": {
   "display_name": "Python 3 (ipykernel)",
   "language": "python",
   "name": "python3"
  },
  "language_info": {
   "codemirror_mode": {
    "name": "ipython",
    "version": 3
   },
   "file_extension": ".py",
   "mimetype": "text/x-python",
   "name": "python",
   "nbconvert_exporter": "python",
   "pygments_lexer": "ipython3",
   "version": "3.12.4"
  }
 },
 "nbformat": 4,
 "nbformat_minor": 5
}
